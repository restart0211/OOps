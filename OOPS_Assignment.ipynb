{
  "nbformat": 4,
  "nbformat_minor": 0,
  "metadata": {
    "colab": {
      "provenance": []
    },
    "kernelspec": {
      "name": "python3",
      "display_name": "Python 3"
    },
    "language_info": {
      "name": "python"
    }
  },
  "cells": [
    {
      "cell_type": "code",
      "execution_count": null,
      "metadata": {
        "id": "cTvO0t8-njIA"
      },
      "outputs": [],
      "source": []
    },
    {
      "cell_type": "markdown",
      "source": [
        "ANSWER 1)Object-oriented programming (OOP) is a programming paradigm that organizes software design around data, or objects, rather than functions and logic. It uses concepts like classes, objects, inheritance, encapsulation, abstraction, and polymorphism to model real-world entities and their interactions."
      ],
      "metadata": {
        "id": "8eUnxbXNnn-D"
      }
    },
    {
      "cell_type": "markdown",
      "source": [
        "ANSWER 2) In Object-Oriented Programming (OOP), a class is a blueprint or template for creating objects. It defines the structure and behavior of objects, including their attributes (data) and methods (functions)."
      ],
      "metadata": {
        "id": "fNs4Q5-Bn0JM"
      }
    },
    {
      "cell_type": "markdown",
      "source": [
        "ANSWER 3) In Object-Oriented Programming (OOP), an object is a fundamental unit that combines data (attributes) and the actions (methods) that operate on that data."
      ],
      "metadata": {
        "id": "byfyEUsToFeU"
      }
    },
    {
      "cell_type": "markdown",
      "source": [
        "ANSWER 4)Abstraction focuses on presenting only the essential features of an object, hiding complex implementation details. Encapsulation, on the other hand, bundles data and the methods that operate on that data, restricting direct access to protect data integrity.\n"
      ],
      "metadata": {
        "id": "R0-lgxsToQIv"
      }
    },
    {
      "cell_type": "markdown",
      "source": [],
      "metadata": {
        "id": "jjXWcEtQoDQL"
      }
    },
    {
      "cell_type": "markdown",
      "source": [
        "ANSWER 5 )Dunder methods, also known as magic methods, are special methods in Python that begin and end with double underscores"
      ],
      "metadata": {
        "id": "nPfhxNmdoelT"
      }
    },
    {
      "cell_type": "markdown",
      "source": [
        "ANSWER 6) nheritance in object-oriented programming is a mechanism where a new class (subclass or child class) can inherit properties and methods from an existing class (superclass or parent class)\n"
      ],
      "metadata": {
        "id": "W0StOZfHonrz"
      }
    },
    {
      "cell_type": "markdown",
      "source": [
        "ANSWER 7) In Object-Oriented Programming (OOP), polymorphism allows objects of different classes to respond to the same method call in their own specific way"
      ],
      "metadata": {
        "id": "9bYmTCaVowyr"
      }
    },
    {
      "cell_type": "markdown",
      "source": [
        "ANSWER 8)Encapsulation in Python is achieved by restricting access to attributes and methods, effectively hiding the internal state of an object and preventing unintended external modifications."
      ],
      "metadata": {
        "id": "EbaSmGpEo3nj"
      }
    },
    {
      "cell_type": "markdown",
      "source": [
        "ANSWER 9) A constructor in Python is a special method within a class that initializes the attributes of an object when the object is created. It is automatically called when an object of the class is instantiated."
      ],
      "metadata": {
        "id": "7cNVGtUppCS7"
      }
    },
    {
      "cell_type": "markdown",
      "source": [
        "ANSWER 10) class method can access or modify the class state while a static method can't access or modify it. In general, static methods know nothing about the class state. They are utility-type methods that take some parameters and work upon those parameters. On the other hand class methods must have class as a parameter."
      ],
      "metadata": {
        "id": "cxF1orxFpSqb"
      }
    },
    {
      "cell_type": "markdown",
      "source": [
        "ANSWER 11)Method overloading in Python refers to the ability to define multiple methods within the same class that share the same name but have distinct parameter lists."
      ],
      "metadata": {
        "id": "G0WchpAhpeS0"
      }
    },
    {
      "cell_type": "markdown",
      "source": [
        "ANSWER 12)Method overriding, a key concept in Object-Oriented Programming (OOP), allows a subclass (child class) to provide a specific implementation of a method that is already defined in its parent class (superclass)."
      ],
      "metadata": {
        "id": "5rhN8NQDplXD"
      }
    },
    {
      "cell_type": "markdown",
      "source": [
        "ANSWER 13)In Python, a property decorator is a built-in feature that allows methods to be accessed like attributes. It provides a way to encapsulate the logic for getting, setting, and deleting an attribute within a class, without requiring the user to call explicit getter or setter methods."
      ],
      "metadata": {
        "id": "AJIvwNeYpsD1"
      }
    },
    {
      "cell_type": "markdown",
      "source": [
        "ANSWER 14)Polymorphism is crucial in OOP(Object-Oriented Programming) because it allows for code reuse, flexibility, and extensibility"
      ],
      "metadata": {
        "id": "V3f-IMQ7pypL"
      }
    },
    {
      "cell_type": "markdown",
      "source": [
        "ANSWER 15)An abstract class in Python is a class that cannot be instantiated directly and serves as a blueprint for other classes. It defines a common interface for a group of related classes, ensuring that subclasses implement specific methods. Abstract classes are created using the abc module and the @abstractmethod decorator."
      ],
      "metadata": {
        "id": "FWvFKG_0p9ab"
      }
    },
    {
      "cell_type": "markdown",
      "source": [
        "ANSWER 16)Object-Oriented Programming (OOP) offers several advantages, including improved code organization through encapsulation, reusability via inheritance, and flexibility through polymorphism."
      ],
      "metadata": {
        "id": "qiPvJVVhqGqj"
      }
    },
    {
      "cell_type": "markdown",
      "source": [
        "ANSWER 17)The key difference between a class variable (also known as a static variable) and an instance variable is their scope and how they are shared. Class variables are shared across all instances of a class, meaning they have only one copy regardless of how many objects are created from that class. Instance variables, on the other hand, are unique to each instance of the class, with each object having its own separate copy."
      ],
      "metadata": {
        "id": "LR4LUVy9qNA0"
      }
    },
    {
      "cell_type": "markdown",
      "source": [
        "ANSWER 18)Multiple inheritance in Python is a feature where a class can inherit attributes and methods from more than one parent class. This allows a class to combine functionalities from different sources, creating a more versatile and feature-rich class"
      ],
      "metadata": {
        "id": "VaB9LB6UqWBr"
      }
    },
    {
      "cell_type": "markdown",
      "source": [
        "ANSWER 19)In Python, the __str__ and __repr__ methods are special methods used to define how objects are represented as strings. They are crucial for providing informative and user-friendly output when working with classes and objects."
      ],
      "metadata": {
        "id": "Bg8lRwgTqdbs"
      }
    },
    {
      "cell_type": "markdown",
      "source": [
        "ANSWER 20)The super() function in Python is used to call methods from a parent class in a subclass. It plays a crucial role in inheritance, allowing subclasses to extend or override the functionality of their parent classes while still being able to access the original implementation."
      ],
      "metadata": {
        "id": "O6JNrR_2qn-c"
      }
    },
    {
      "cell_type": "markdown",
      "source": [
        "ANSWER 21)In Python, the __del__ method, also known as a destructor, defines actions to be performed when an object is garbage collected. It is called automatically when all references to an object have been removed, and the object is about to be destroyed. The primary purpose of __del__ is to clean up resources that the object may have acquired, such as closing files or releasing external connections.\n",
        "\n"
      ],
      "metadata": {
        "id": "5anPVNyaquy8"
      }
    },
    {
      "cell_type": "markdown",
      "source": [
        "ANSWER 22)The key differences between @staticmethod and @classmethod in Python are:\n",
        "\n",
        "@staticmethod: This decorator defines a method that does not receive any implicit arguments (neither the instance self nor the class cls). It is essentially a function that belongs to the class's namespace, but does not interact with the class or its instances.\n",
        "\n",
        "@classmethod: This decorator defines a method that receives the class cls as the first argument, instead of the instance self. This allows the method to access and modify class-level attributes or create instances of the class."
      ],
      "metadata": {
        "id": "pSiaVdcqq4rj"
      }
    },
    {
      "cell_type": "markdown",
      "source": [
        "ANSWER 23)Polymorphism, meaning \"many forms,\" enables objects of different classes to respond to the same method call in their own specific ways. When combined with inheritance in Python, polymorphism allows subclasses to override methods of their parent class, leading to varied behaviors depending on the object type."
      ],
      "metadata": {
        "id": "yvBEZRG1rCbb"
      }
    },
    {
      "cell_type": "markdown",
      "source": [
        "ANSWER 24)Method chaining in Python is a programming technique used in object-oriented programming where multiple methods are called sequentially on the same object in a single statement."
      ],
      "metadata": {
        "id": "YcAR5zTKrLZz"
      }
    },
    {
      "cell_type": "markdown",
      "source": [
        "ANSWER 25)The __call__ method in Python enables instances of a class to be called like regular functions. When a class defines the __call__ method, it makes its instances \"callable.\" This means you can apply the function call syntax () directly to an object of that class. The primary purpose of __call__ is to customize the behavior of calling an object, allowing it to perform specific actions or computations when invoked.\n"
      ],
      "metadata": {
        "id": "fxEDp413rSVD"
      }
    },
    {
      "cell_type": "markdown",
      "source": [
        "PRACTICAL QUESTIONS"
      ],
      "metadata": {
        "id": "TKKpXWm-rbHb"
      }
    },
    {
      "cell_type": "markdown",
      "source": [
        "ANSWER 1"
      ],
      "metadata": {
        "id": "CINS3DwRrgtD"
      }
    },
    {
      "cell_type": "code",
      "source": [
        "# Parent class\n",
        "class Animal:\n",
        "    def speak(self):\n",
        "        print(\"The animal makes a sound.\")\n",
        "\n",
        "# Child class\n",
        "class Dog(Animal):\n",
        "    def speak(self):\n",
        "        print(\"Bark!\")\n"
      ],
      "metadata": {
        "id": "lBXElpjLrh8z"
      },
      "execution_count": 1,
      "outputs": []
    },
    {
      "cell_type": "markdown",
      "source": [
        "ANSWER 2)"
      ],
      "metadata": {
        "id": "jx4tGpWxsC-E"
      }
    },
    {
      "cell_type": "code",
      "source": [
        "from abc import ABC, abstractmethod\n",
        "import math\n",
        "\n",
        "# Abstract base class\n",
        "class Shape(ABC):\n",
        "    @abstractmethod\n",
        "    def area(self):\n",
        "        pass\n",
        "\n",
        "# Derived class for Circle\n",
        "class Circle(Shape):\n",
        "    def __init__(self, radius):\n",
        "        self.radius = radius\n",
        "\n",
        "    def area(self):\n",
        "        return math.pi * self.radius ** 2\n",
        "\n",
        "# Derived class for Rectangle\n",
        "class Rectangle(Shape):\n",
        "    def __init__(self, width, height):\n",
        "        self.width = width\n",
        "        self.height = height\n",
        "\n",
        "    def area(self):\n",
        "        return self.width * self.height\n"
      ],
      "metadata": {
        "id": "3SQJHF_GsEIM"
      },
      "execution_count": 2,
      "outputs": []
    },
    {
      "cell_type": "code",
      "source": [
        "circle = Circle(5)\n",
        "print(\"Area of Circle:\", circle.area())\n",
        "\n",
        "rectangle = Rectangle(4, 6)\n",
        "print(\"Area of Rectangle:\", rectangle.area())"
      ],
      "metadata": {
        "colab": {
          "base_uri": "https://localhost:8080/"
        },
        "id": "4Doe1kW6sYue",
        "outputId": "42d3ec48-10ab-49ee-d38e-9b8b3ce90ca0"
      },
      "execution_count": 3,
      "outputs": [
        {
          "output_type": "stream",
          "name": "stdout",
          "text": [
            "Area of Circle: 78.53981633974483\n",
            "Area of Rectangle: 24\n"
          ]
        }
      ]
    },
    {
      "cell_type": "markdown",
      "source": [
        "ANSWER 3)"
      ],
      "metadata": {
        "id": "2oVu9tL5sfJU"
      }
    },
    {
      "cell_type": "code",
      "source": [
        "# Base class\n",
        "class Vehicle:\n",
        "    def __init__(self, vehicle_type):\n",
        "        self.type = vehicle_type\n",
        "\n",
        "    def display_type(self):\n",
        "        print(f\"Vehicle Type: {self.type}\")\n",
        "\n",
        "# Derived class\n",
        "class Car(Vehicle):\n",
        "    def __init__(self, vehicle_type, brand):\n",
        "        super().__init__(vehicle_type)\n",
        "        self.brand = brand\n",
        "\n",
        "    def display_brand(self):\n",
        "        print(f\"Car Brand: {self.brand}\")\n",
        "\n",
        "# Further derived class\n",
        "class ElectricCar(Car):\n",
        "    def __init__(self, vehicle_type, brand, battery_capacity):\n",
        "        super().__init__(vehicle_type, brand)\n",
        "        self.battery = battery_capacity\n",
        "\n",
        "    def display_battery(self):\n",
        "        print(f\"Battery Capacity: {self.battery} kWh\")\n"
      ],
      "metadata": {
        "id": "7nUIYlwrs3GM"
      },
      "execution_count": 4,
      "outputs": []
    },
    {
      "cell_type": "code",
      "source": [
        "my_electric_car = ElectricCar(\"Four Wheeler\", \"Tesla\", 75)\n",
        "\n",
        "my_electric_car.display_type()\n",
        "my_electric_car.display_brand()\n",
        "my_electric_car.display_battery()"
      ],
      "metadata": {
        "colab": {
          "base_uri": "https://localhost:8080/"
        },
        "id": "YpjmcgRMtFpM",
        "outputId": "2e57595b-a539-4f52-dc88-b709faa5ea82"
      },
      "execution_count": 5,
      "outputs": [
        {
          "output_type": "stream",
          "name": "stdout",
          "text": [
            "Vehicle Type: Four Wheeler\n",
            "Car Brand: Tesla\n",
            "Battery Capacity: 75 kWh\n"
          ]
        }
      ]
    },
    {
      "cell_type": "markdown",
      "source": [
        "ANSWWER 4)"
      ],
      "metadata": {
        "id": "n3pYqKd4thG9"
      }
    },
    {
      "cell_type": "code",
      "source": [
        "# Base class\n",
        "class Bird:\n",
        "    def fly(self):\n",
        "        print(\"Some birds can fly.\")\n",
        "\n",
        "# Derived class Sparrow\n",
        "class Sparrow(Bird):\n",
        "    def fly(self):\n",
        "        print(\"Sparrow flies high in the sky.\")\n",
        "\n",
        "# Derived class Penguin\n",
        "class Penguin(Bird):\n",
        "    def fly(self):\n",
        "        print(\"Penguins cannot fly but they swim well.\")\n",
        "\n",
        "# Function to demonstrate polymorphism\n",
        "def bird_fly_test(bird):\n",
        "    bird.fly()"
      ],
      "metadata": {
        "id": "QxreKOEmtjo8"
      },
      "execution_count": 6,
      "outputs": []
    },
    {
      "cell_type": "code",
      "source": [
        "sparrow = Sparrow()\n",
        "penguin = Penguin()\n",
        "\n",
        "bird_fly_test(sparrow)\n",
        "bird_fly_test(penguin)"
      ],
      "metadata": {
        "colab": {
          "base_uri": "https://localhost:8080/"
        },
        "id": "QdoF-DJ6tlh0",
        "outputId": "ec9b3c1e-4505-4bf6-aaca-d832ce2b3b6f"
      },
      "execution_count": 7,
      "outputs": [
        {
          "output_type": "stream",
          "name": "stdout",
          "text": [
            "Sparrow flies high in the sky.\n",
            "Penguins cannot fly but they swim well.\n"
          ]
        }
      ]
    },
    {
      "cell_type": "markdown",
      "source": [
        "ANSWER 5)"
      ],
      "metadata": {
        "id": "lNmqaYhstrlM"
      }
    },
    {
      "cell_type": "code",
      "source": [
        "class BankAccount:\n",
        "    def __init__(self, initial_balance=0):\n",
        "        self.__balance = initial_balance  # Private attribute\n",
        "\n",
        "    def deposit(self, amount):\n",
        "        if amount > 0:\n",
        "            self.__balance += amount\n",
        "            print(f\"Deposited: ${amount}\")\n",
        "        else:\n",
        "            print(\"Invalid deposit amount.\")\n",
        "\n",
        "    def withdraw(self, amount):\n",
        "        if 0 < amount <= self.__balance:\n",
        "            self.__balance -= amount\n",
        "            print(f\"Withdrawn: ${amount}\")\n",
        "        else:\n",
        "            print(\"Insufficient balance or invalid amount.\")\n",
        "\n",
        "    def check_balance(self):\n",
        "        print(f\"Current Balance: ${self.__balance}\")"
      ],
      "metadata": {
        "id": "xtGmBpHBtvTN"
      },
      "execution_count": 8,
      "outputs": []
    },
    {
      "cell_type": "code",
      "source": [
        "account = BankAccount(100)\n",
        "account.check_balance()\n",
        "account.deposit(50)\n",
        "account.check_balance()\n",
        "\n",
        "account.withdraw(70)\n",
        "account.check_balance()"
      ],
      "metadata": {
        "colab": {
          "base_uri": "https://localhost:8080/"
        },
        "id": "XJ3lqmK8t63V",
        "outputId": "a5b579c8-53e7-4da5-afac-706f773cc6ea"
      },
      "execution_count": 9,
      "outputs": [
        {
          "output_type": "stream",
          "name": "stdout",
          "text": [
            "Current Balance: $100\n",
            "Deposited: $50\n",
            "Current Balance: $150\n",
            "Withdrawn: $70\n",
            "Current Balance: $80\n"
          ]
        }
      ]
    },
    {
      "cell_type": "markdown",
      "source": [
        "ANSWER 6)"
      ],
      "metadata": {
        "id": "oRzyB3AwuAZE"
      }
    },
    {
      "cell_type": "code",
      "source": [
        "# Base class\n",
        "class Instrument:\n",
        "    def play(self):\n",
        "        print(\"The instrument is playing.\")\n",
        "\n",
        "# Derived class: Guitar\n",
        "class Guitar(Instrument):\n",
        "    def play(self):\n",
        "        print(\"Strumming the guitar.\")\n",
        "\n",
        "# Derived class: Piano\n",
        "class Piano(Instrument):\n",
        "    def play(self):\n",
        "        print(\"Playing the piano keys.\")\n",
        "\n",
        "# Function to demonstrate runtime polymorphism\n",
        "def perform_play(instrument):\n",
        "    instrument.play()\n"
      ],
      "metadata": {
        "id": "0Iu0NG0HuC3-"
      },
      "execution_count": 10,
      "outputs": []
    },
    {
      "cell_type": "code",
      "source": [
        "guitar = Guitar()\n",
        "piano = Piano()\n",
        "\n",
        "perform_play(guitar)\n",
        "perform_play(piano)"
      ],
      "metadata": {
        "colab": {
          "base_uri": "https://localhost:8080/"
        },
        "id": "7sB3O2sxuMiU",
        "outputId": "915bd27d-c6db-4dec-ed95-197c76089c0f"
      },
      "execution_count": 11,
      "outputs": [
        {
          "output_type": "stream",
          "name": "stdout",
          "text": [
            "Strumming the guitar.\n",
            "Playing the piano keys.\n"
          ]
        }
      ]
    },
    {
      "cell_type": "markdown",
      "source": [
        "ANSWER 7)"
      ],
      "metadata": {
        "id": "6l2GckRHx9gR"
      }
    },
    {
      "cell_type": "code",
      "source": [
        "class MathOperations:\n",
        "    @classmethod\n",
        "    def add_numbers(cls, a, b):\n",
        "        return a + b\n",
        "\n",
        "    @staticmethod\n",
        "    def subtract_numbers(a, b):\n",
        "        return a - b\n",
        "\n",
        "\n",
        "sum_result = MathOperations.add_numbers(10, 5)\n",
        "print(\"Sum:\", sum_result)\n",
        "\n",
        "difference_result = MathOperations.subtract_numbers(10, 5)\n",
        "print(\"Difference:\", difference_result)"
      ],
      "metadata": {
        "colab": {
          "base_uri": "https://localhost:8080/"
        },
        "id": "eAcZfYIyx_DF",
        "outputId": "308d0beb-183c-4c2d-e282-33034ce9ed74"
      },
      "execution_count": 1,
      "outputs": [
        {
          "output_type": "stream",
          "name": "stdout",
          "text": [
            "Sum: 15\n",
            "Difference: 5\n"
          ]
        }
      ]
    },
    {
      "cell_type": "markdown",
      "source": [
        "ANSWER 8)"
      ],
      "metadata": {
        "id": "DwVmD0UIyYHG"
      }
    },
    {
      "cell_type": "code",
      "source": [
        "class Person:\n",
        "    count = 0\n",
        "    def __init__(self, name):\n",
        "        self.name = name\n",
        "        Person.count += 1\n",
        "\n",
        "    @classmethod\n",
        "    def total_persons(cls):\n",
        "        return cls.count\n",
        "\n",
        "p1 = Person(\"Alice\")\n",
        "p2 = Person(\"Bob\")\n",
        "p3 = Person(\"Charlie\")\n",
        "\n",
        "print(\"Total persons created:\", Person.total_persons())"
      ],
      "metadata": {
        "colab": {
          "base_uri": "https://localhost:8080/"
        },
        "id": "3PRFOURNyjrn",
        "outputId": "2b660fb2-b913-4052-aae1-96e9808c6a6e"
      },
      "execution_count": 3,
      "outputs": [
        {
          "output_type": "stream",
          "name": "stdout",
          "text": [
            "Total persons created: 3\n"
          ]
        }
      ]
    },
    {
      "cell_type": "markdown",
      "source": [
        "ANSWER 9)"
      ],
      "metadata": {
        "id": "o8nseAV1y6EO"
      }
    },
    {
      "cell_type": "code",
      "source": [
        "class Fraction:\n",
        "    def __init__(self, numerator, denominator):\n",
        "        self.numerator = numerator\n",
        "        if denominator == 0:\n",
        "            raise ValueError(\"Denominator cannot be zero.\")\n",
        "        self.denominator = denominator\n",
        "\n",
        "    def __str__(self):\n",
        "        return f\"{self.numerator}/{self.denominator}\"\n",
        "\n",
        "\n",
        "f1 = Fraction(3, 4)\n",
        "print(f1)\n",
        "\n",
        "f2 = Fraction(5, 1)\n",
        "print(f2)"
      ],
      "metadata": {
        "colab": {
          "base_uri": "https://localhost:8080/"
        },
        "id": "RXjpVIj8y7SW",
        "outputId": "5c02349d-4f0e-4867-de35-e3a2113fe080"
      },
      "execution_count": 4,
      "outputs": [
        {
          "output_type": "stream",
          "name": "stdout",
          "text": [
            "3/4\n",
            "5/1\n"
          ]
        }
      ]
    },
    {
      "cell_type": "markdown",
      "source": [
        "ANSWER 10)"
      ],
      "metadata": {
        "id": "dtvv7DO1zI3P"
      }
    },
    {
      "cell_type": "code",
      "source": [
        "class Vector:\n",
        "    def __init__(self, x, y):\n",
        "        self.x = x\n",
        "        self.y = y\n",
        "\n",
        "    def __add__(self, other):\n",
        "        if isinstance(other, Vector):\n",
        "            return Vector(self.x + other.x, self.y + other.y)\n",
        "        return NotImplemented\n",
        "\n",
        "    def __str__(self):\n",
        "        return f\"({self.x}, {self.y})\"\n",
        "\n",
        "\n",
        "v1 = Vector(2, 3)\n",
        "v2 = Vector(4, 5)\n",
        "\n",
        "v3 = v1 + v2\n",
        "print(\"v1 + v2 =\", v3)"
      ],
      "metadata": {
        "colab": {
          "base_uri": "https://localhost:8080/"
        },
        "id": "E_XrODlnzKC2",
        "outputId": "98dd8026-20c6-4a88-e36e-d70d3aec2146"
      },
      "execution_count": 5,
      "outputs": [
        {
          "output_type": "stream",
          "name": "stdout",
          "text": [
            "v1 + v2 = (6, 8)\n"
          ]
        }
      ]
    },
    {
      "cell_type": "markdown",
      "source": [
        "ANSWER 11)"
      ],
      "metadata": {
        "id": "RNRFIn20zWy-"
      }
    },
    {
      "cell_type": "code",
      "source": [
        "class Person:\n",
        "    def __init__(self, name, age):\n",
        "        self.name = name\n",
        "        self.age = age\n",
        "\n",
        "    def greet(self):\n",
        "        print(f\"Hello, my name is {self.name} and I am {self.age} years old.\")\n",
        "\n",
        "p1 = Person(\"Alice\", 30)\n",
        "p1.greet()"
      ],
      "metadata": {
        "colab": {
          "base_uri": "https://localhost:8080/"
        },
        "id": "5V2Ve50vzX_e",
        "outputId": "aa391f05-ec28-43c4-cb88-6344fb6d3ed9"
      },
      "execution_count": 7,
      "outputs": [
        {
          "output_type": "stream",
          "name": "stdout",
          "text": [
            "Hello, my name is Alice and I am 30 years old.\n"
          ]
        }
      ]
    },
    {
      "cell_type": "markdown",
      "source": [
        "ANSWER 12)"
      ],
      "metadata": {
        "id": "UuKlUsdgzlzO"
      }
    },
    {
      "cell_type": "code",
      "source": [
        "class Student:\n",
        "    def __init__(self, name, grades):\n",
        "        self.name = name\n",
        "        self.grades = grades  # Expecting a list of numbers\n",
        "\n",
        "    def average_grade(self):\n",
        "        if not self.grades:\n",
        "            return 0\n",
        "        return sum(self.grades) / len(self.grades)\n",
        "\n",
        "\n",
        "s1 = Student(\"John\", [85, 90, 78, 92])\n",
        "print(f\"{s1.name}'s average grade is: {s1.average_grade()}\")"
      ],
      "metadata": {
        "colab": {
          "base_uri": "https://localhost:8080/"
        },
        "id": "Fh847OuRznDG",
        "outputId": "dea0e2d9-0960-4991-a70e-ff88e48db23c"
      },
      "execution_count": 8,
      "outputs": [
        {
          "output_type": "stream",
          "name": "stdout",
          "text": [
            "John's average grade is: 86.25\n"
          ]
        }
      ]
    },
    {
      "cell_type": "markdown",
      "source": [
        "ANSWER 13)"
      ],
      "metadata": {
        "id": "wWw6Mhb5z242"
      }
    },
    {
      "cell_type": "code",
      "source": [
        "class Rectangle:\n",
        "    def __init__(self):\n",
        "        self.width = 0\n",
        "        self.height = 0\n",
        "\n",
        "    def set_dimensions(self, width, height):\n",
        "        self.width = width\n",
        "        self.height = height\n",
        "\n",
        "    def area(self):\n",
        "        return self.width * self.height\n",
        "\n",
        "\n",
        "rect = Rectangle()\n",
        "rect.set_dimensions(5, 10)\n",
        "print(\"Area of rectangle:\", rect.area())"
      ],
      "metadata": {
        "colab": {
          "base_uri": "https://localhost:8080/"
        },
        "id": "UrmqiJ8Cz4D-",
        "outputId": "ffca75d3-1070-4879-8b31-76c8e32860aa"
      },
      "execution_count": 9,
      "outputs": [
        {
          "output_type": "stream",
          "name": "stdout",
          "text": [
            "Area of rectangle: 50\n"
          ]
        }
      ]
    },
    {
      "cell_type": "markdown",
      "source": [
        "ANSWER 14)"
      ],
      "metadata": {
        "id": "emhEW4G_0JNg"
      }
    },
    {
      "cell_type": "code",
      "source": [
        "# Base class\n",
        "class Employee:\n",
        "    def __init__(self, hours_worked, hourly_rate):\n",
        "        self.hours_worked = hours_worked\n",
        "        self.hourly_rate = hourly_rate\n",
        "\n",
        "    def calculate_salary(self):\n",
        "        return self.hours_worked * self.hourly_rate\n",
        "\n",
        "# Derived class\n",
        "class Manager(Employee):\n",
        "    def __init__(self, hours_worked, hourly_rate, bonus):\n",
        "        super().__init__(hours_worked, hourly_rate)\n",
        "        self.bonus = bonus\n",
        "\n",
        "    def calculate_salary(self):\n",
        "        base_salary = super().calculate_salary()\n",
        "        return base_salary + self.bonus\n",
        "\n",
        "\n",
        "emp = Employee(40, 20)\n",
        "print(\"Employee Salary:\", emp.calculate_salary())  # Output: 800\n",
        "\n",
        "mgr = Manager(40, 30, 500)\n",
        "print(\"Manager Salary:\", mgr.calculate_salary())"
      ],
      "metadata": {
        "colab": {
          "base_uri": "https://localhost:8080/"
        },
        "id": "yM_rHotN0Kff",
        "outputId": "fa4b2f3c-f80a-42dc-b4e9-14fbfc027154"
      },
      "execution_count": 10,
      "outputs": [
        {
          "output_type": "stream",
          "name": "stdout",
          "text": [
            "Employee Salary: 800\n",
            "Manager Salary: 1700\n"
          ]
        }
      ]
    },
    {
      "cell_type": "markdown",
      "source": [
        "ANSWER 15)"
      ],
      "metadata": {
        "id": "eIpyRUT10Y2e"
      }
    },
    {
      "cell_type": "code",
      "source": [
        "class Product:\n",
        "    def __init__(self, name, price, quantity):\n",
        "        self.name = name\n",
        "        self.price = price\n",
        "        self.quantity = quantity\n",
        "\n",
        "    def total_price(self):\n",
        "        return self.price * self.quantity\n",
        "\n",
        "\n",
        "p1 = Product(\"Laptop\", 800, 2)\n",
        "print(f\"Total price for {p1.name}s: ${p1.total_price()}\")"
      ],
      "metadata": {
        "colab": {
          "base_uri": "https://localhost:8080/"
        },
        "id": "LrJEezoM0doq",
        "outputId": "1595ab71-2e45-436d-d269-0b93c0407b04"
      },
      "execution_count": 11,
      "outputs": [
        {
          "output_type": "stream",
          "name": "stdout",
          "text": [
            "Total price for Laptops: $1600\n"
          ]
        }
      ]
    },
    {
      "cell_type": "markdown",
      "source": [
        "ANSWER 16)"
      ],
      "metadata": {
        "id": "i_znAy6z0ko-"
      }
    },
    {
      "cell_type": "code",
      "source": [
        "from abc import ABC, abstractmethod\n",
        "\n",
        "# Abstract base class\n",
        "class Animal(ABC):\n",
        "    @abstractmethod\n",
        "    def sound(self):\n",
        "        pass\n",
        "\n",
        "# Derived class Cow\n",
        "class Cow(Animal):\n",
        "    def sound(self):\n",
        "        print(\"Moo!\")\n",
        "\n",
        "# Derived class Sheep\n",
        "class Sheep(Animal):\n",
        "    def sound(self):\n",
        "        print(\"Baa!\")\n",
        "\n",
        "\n",
        "cow = Cow()\n",
        "cow.sound()\n",
        "\n",
        "sheep = Sheep()\n",
        "sheep.sound()"
      ],
      "metadata": {
        "colab": {
          "base_uri": "https://localhost:8080/"
        },
        "id": "D2Kez0ja0n8W",
        "outputId": "30bf0fba-0f4f-4339-8343-e08995218a5a"
      },
      "execution_count": 12,
      "outputs": [
        {
          "output_type": "stream",
          "name": "stdout",
          "text": [
            "Moo!\n",
            "Baa!\n"
          ]
        }
      ]
    },
    {
      "cell_type": "markdown",
      "source": [
        "ANSWER 17)"
      ],
      "metadata": {
        "id": "qGIzaA9G0ylX"
      }
    },
    {
      "cell_type": "code",
      "source": [
        "class Book:\n",
        "    def __init__(self, title, author, year_published):\n",
        "        self.title = title\n",
        "        self.author = author\n",
        "        self.year_published = year_published\n",
        "\n",
        "    def get_book_info(self):\n",
        "        return f\"Title: {self.title}\\nAuthor: {self.author}\\nYear Published: {self.year_published}\"\n",
        "\n",
        "\n",
        "book1 = Book(\"1984\", \"George Orwell\", 1949)\n",
        "print(book1.get_book_info())"
      ],
      "metadata": {
        "colab": {
          "base_uri": "https://localhost:8080/"
        },
        "id": "40U6Rspp0znn",
        "outputId": "e0e6faf1-56a3-4606-a006-b30602d2b657"
      },
      "execution_count": 13,
      "outputs": [
        {
          "output_type": "stream",
          "name": "stdout",
          "text": [
            "Title: 1984\n",
            "Author: George Orwell\n",
            "Year Published: 1949\n"
          ]
        }
      ]
    },
    {
      "cell_type": "markdown",
      "source": [
        "ANSWER 18)"
      ],
      "metadata": {
        "id": "EIpnuvJ708DO"
      }
    },
    {
      "cell_type": "code",
      "source": [
        "# Base class\n",
        "class House:\n",
        "    def __init__(self, address, price):\n",
        "        self.address = address\n",
        "        self.price = price\n",
        "\n",
        "    def display_info(self):\n",
        "        return f\"Address: {self.address}\\nPrice: ${self.price}\"\n",
        "\n",
        "# Derived class Mansion\n",
        "class Mansion(House):\n",
        "    def __init__(self, address, price, number_of_rooms):\n",
        "        super().__init__(address, price)  # Call the base class constructor\n",
        "        self.number_of_rooms = number_of_rooms\n",
        "\n",
        "    def display_info(self):\n",
        "        base_info = super().display_info()  # Get base class information\n",
        "        return f\"{base_info}\\nNumber of Rooms: {self.number_of_rooms}\"\n",
        "\n",
        "\n",
        "house = House(\"130 mb town\", 50000)\n",
        "print(house.display_info())\n",
        "\n",
        "\n",
        "mansion = Mansion(\"Mannat\", 5000000, 12)\n",
        "print(mansion.display_info())"
      ],
      "metadata": {
        "colab": {
          "base_uri": "https://localhost:8080/"
        },
        "id": "AmDKhElZ09WC",
        "outputId": "11edfd71-6893-4be9-c36d-6f92ebbd2d58"
      },
      "execution_count": 15,
      "outputs": [
        {
          "output_type": "stream",
          "name": "stdout",
          "text": [
            "Address: 130 mb town\n",
            "Price: $50000\n",
            "Address: Mannat\n",
            "Price: $5000000\n",
            "Number of Rooms: 12\n"
          ]
        }
      ]
    },
    {
      "cell_type": "markdown",
      "source": [],
      "metadata": {
        "id": "YK9K3Jtgzg_P"
      }
    }
  ]
}